{
 "cells": [
  {
   "cell_type": "code",
   "execution_count": 1,
   "metadata": {
    "collapsed": true
   },
   "outputs": [
    {
     "data": {
      "text/plain": "array([[1, 2, 3],\n       [4, 5, 6]])"
     },
     "execution_count": 1,
     "metadata": {},
     "output_type": "execute_result"
    }
   ],
   "source": [
    "import numpy\n",
    "numpy.array(\n",
    "    [\n",
    "        [1, 2, 3],\n",
    "        [4, 5, 6]\n",
    "    ]\n",
    ")"
   ]
  },
  {
   "cell_type": "code",
   "execution_count": 2,
   "outputs": [
    {
     "data": {
      "text/plain": "tensor([[1., 2., 3.],\n        [4., 5., 6.]])"
     },
     "execution_count": 2,
     "metadata": {},
     "output_type": "execute_result"
    }
   ],
   "source": [
    "import torch\n",
    "torch.Tensor(\n",
    "    [\n",
    "        [1, 2, 3],\n",
    "        [4, 5, 6]\n",
    "    ]\n",
    ")"
   ],
   "metadata": {
    "collapsed": false
   }
  },
  {
   "cell_type": "code",
   "execution_count": 3,
   "outputs": [
    {
     "data": {
      "text/plain": "array([[0.17152534, 0.68562632, 0.33959898, 0.4285364 , 0.30503047,\n        0.33769866, 0.81292083, 0.17287577, 0.59292308, 0.85856794],\n       [0.2847042 , 0.4317122 , 0.69620427, 0.81294866, 0.56829387,\n        0.56952469, 0.29512487, 0.08307179, 0.1388487 , 0.06763091],\n       [0.28871422, 0.85425915, 0.99336098, 0.36984846, 0.46162034,\n        0.18306197, 0.07557242, 0.32659803, 0.89394647, 0.74900993],\n       [0.30605834, 0.44714644, 0.14631464, 0.51676954, 0.36579012,\n        0.38328335, 0.15443397, 0.48344523, 0.21090681, 0.02160049],\n       [0.94209562, 0.43216393, 0.00561966, 0.56738118, 0.53817859,\n        0.8732184 , 0.5391824 , 0.12540264, 0.72100619, 0.17338015],\n       [0.35451763, 0.25198994, 0.32276357, 0.07668262, 0.82651573,\n        0.80978864, 0.47928335, 0.29943528, 0.48145954, 0.99953244],\n       [0.73079948, 0.65020403, 0.58975158, 0.40526307, 0.2383927 ,\n        0.27806173, 0.82719753, 0.34675378, 0.30423828, 0.72678876],\n       [0.67666913, 0.12466541, 0.62062896, 0.36162816, 0.11711001,\n        0.33811483, 0.97727858, 0.80895269, 0.93479038, 0.43829224],\n       [0.52352409, 0.6011145 , 0.24819216, 0.36941657, 0.44793018,\n        0.91799738, 0.67245819, 0.06762907, 0.87418117, 0.58783584],\n       [0.8684105 , 0.82941152, 0.07763121, 0.11236841, 0.06948947,\n        0.65126125, 0.75927686, 0.25850963, 0.71468964, 0.05526866]])"
     },
     "execution_count": 3,
     "metadata": {},
     "output_type": "execute_result"
    }
   ],
   "source": [
    "import numpy as np\n",
    "np.random.rand(10, 10)"
   ],
   "metadata": {
    "collapsed": false
   }
  },
  {
   "cell_type": "code",
   "execution_count": null,
   "outputs": [],
   "source": [],
   "metadata": {
    "collapsed": false
   }
  }
 ],
 "metadata": {
  "kernelspec": {
   "display_name": "Python 3",
   "language": "python",
   "name": "python3"
  },
  "language_info": {
   "codemirror_mode": {
    "name": "ipython",
    "version": 2
   },
   "file_extension": ".py",
   "mimetype": "text/x-python",
   "name": "python",
   "nbconvert_exporter": "python",
   "pygments_lexer": "ipython2",
   "version": "2.7.6"
  }
 },
 "nbformat": 4,
 "nbformat_minor": 0
}
